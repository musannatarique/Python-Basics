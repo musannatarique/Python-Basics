{
  "cells": [
    {
      "cell_type": "markdown",
      "metadata": {
        "id": "njFGF_Zox0N3"
      },
      "source": [
        "Importing Numpy Library"
      ]
    },
    {
      "cell_type": "code",
      "execution_count": 1,
      "metadata": {
        "id": "-eszf8anvKIN"
      },
      "outputs": [],
      "source": [
        "import numpy as np"
      ]
    },
    {
      "cell_type": "markdown",
      "metadata": {
        "id": "LWQoC194yFxQ"
      },
      "source": [
        "**Matrix Addition**"
      ]
    },
    {
      "cell_type": "code",
      "execution_count": 2,
      "metadata": {
        "id": "y55LmIvZyDhD"
      },
      "outputs": [],
      "source": [
        "# Creating two matrices\n",
        "\n",
        "A = np.array([[2,3],[4,5]])\n",
        "\n",
        "B = np.array([[6,7],[8,9]])"
      ]
    },
    {
      "cell_type": "code",
      "execution_count": 3,
      "metadata": {
        "colab": {
          "base_uri": "https://localhost:8080/"
        },
        "id": "ZdAndFBayp6a",
        "outputId": "4bf7494b-2595-45cd-eb3d-a14be8476fbb"
      },
      "outputs": [
        {
          "name": "stdout",
          "output_type": "stream",
          "text": [
            "[[2 3]\n",
            " [4 5]]\n"
          ]
        },
        {
          "data": {
            "text/plain": [
              "(2, 2)"
            ]
          },
          "execution_count": 3,
          "metadata": {},
          "output_type": "execute_result"
        }
      ],
      "source": [
        "print(A)\n",
        "A.shape"
      ]
    },
    {
      "cell_type": "code",
      "execution_count": 4,
      "metadata": {
        "colab": {
          "base_uri": "https://localhost:8080/"
        },
        "id": "g1zU4IUKysAN",
        "outputId": "78997811-3184-4a2a-dc5f-0e9c0fcd4db2"
      },
      "outputs": [
        {
          "name": "stdout",
          "output_type": "stream",
          "text": [
            "[[6 7]\n",
            " [8 9]]\n"
          ]
        },
        {
          "data": {
            "text/plain": [
              "(2, 2)"
            ]
          },
          "execution_count": 4,
          "metadata": {},
          "output_type": "execute_result"
        }
      ],
      "source": [
        "print(B)\n",
        "B.shape"
      ]
    },
    {
      "cell_type": "markdown",
      "metadata": {
        "id": "aD3qmdGozEVu"
      },
      "source": [
        "**Adding Matrices**"
      ]
    },
    {
      "cell_type": "code",
      "execution_count": 5,
      "metadata": {
        "id": "2ilMmmuGy8wm"
      },
      "outputs": [
        {
          "name": "stdout",
          "output_type": "stream",
          "text": [
            "[[ 8 10]\n",
            " [12 14]]\n"
          ]
        }
      ],
      "source": [
        "sum = A + B\n",
        "print(sum)"
      ]
    },
    {
      "cell_type": "code",
      "execution_count": 6,
      "metadata": {
        "id": "8KQHo-XmzMSk"
      },
      "outputs": [],
      "source": [
        "# Create two matrices with random values\n",
        "matrix_1 = np.random.randint(10, size=(3,3))\n",
        "matrix_2 = np.random.randint(20, size=(3,3))\n"
      ]
    },
    {
      "cell_type": "code",
      "execution_count": 7,
      "metadata": {},
      "outputs": [
        {
          "name": "stdout",
          "output_type": "stream",
          "text": [
            "[[3 0 4]\n",
            " [6 7 2]\n",
            " [7 3 4]]\n"
          ]
        }
      ],
      "source": [
        "print(matrix_1)"
      ]
    },
    {
      "cell_type": "code",
      "execution_count": 8,
      "metadata": {
        "colab": {
          "base_uri": "https://localhost:8080/"
        },
        "id": "3mMRWWljzw11",
        "outputId": "92831fa7-bc8f-4cca-d7fe-93e73ac521bd"
      },
      "outputs": [
        {
          "name": "stdout",
          "output_type": "stream",
          "text": [
            "[[ 7 12  8]\n",
            " [15  7 14]\n",
            " [ 4 15  0]]\n"
          ]
        }
      ],
      "source": [
        "print(matrix_2)"
      ]
    },
    {
      "cell_type": "code",
      "execution_count": 9,
      "metadata": {
        "id": "r44p4H4pzyc-"
      },
      "outputs": [],
      "source": [
        "sum = np.add(matrix_1, matrix_2)"
      ]
    },
    {
      "cell_type": "code",
      "execution_count": 10,
      "metadata": {
        "colab": {
          "base_uri": "https://localhost:8080/"
        },
        "id": "5KpDNB6Uz_8R",
        "outputId": "75686236-507b-4b28-d8ee-653b59b002e8"
      },
      "outputs": [
        {
          "name": "stdout",
          "output_type": "stream",
          "text": [
            "[[10 12 12]\n",
            " [21 14 16]\n",
            " [11 18  4]]\n"
          ]
        }
      ],
      "source": [
        "print(sum)"
      ]
    },
    {
      "cell_type": "code",
      "execution_count": 11,
      "metadata": {
        "id": "4k-9zYHA0BHP"
      },
      "outputs": [],
      "source": [
        "# Create two matrices with random values\n",
        "matrix_3 = np.random.randint(10, size=(3,3))\n",
        "matrix_4 = np.random.randint(20, size=(3,4))"
      ]
    },
    {
      "cell_type": "code",
      "execution_count": 12,
      "metadata": {
        "colab": {
          "base_uri": "https://localhost:8080/",
          "height": 161
        },
        "id": "kkz5reqw0Kbi",
        "outputId": "1d713ddf-ed26-43c0-a3b2-be92ef29fd1d"
      },
      "outputs": [
        {
          "ename": "ValueError",
          "evalue": "operands could not be broadcast together with shapes (3,3) (3,4) ",
          "output_type": "error",
          "traceback": [
            "\u001b[31m---------------------------------------------------------------------------\u001b[39m",
            "\u001b[31mValueError\u001b[39m                                Traceback (most recent call last)",
            "\u001b[36mCell\u001b[39m\u001b[36m \u001b[39m\u001b[32mIn[12]\u001b[39m\u001b[32m, line 1\u001b[39m\n\u001b[32m----> \u001b[39m\u001b[32m1\u001b[39m sum_2 = \u001b[43mnp\u001b[49m\u001b[43m.\u001b[49m\u001b[43madd\u001b[49m\u001b[43m(\u001b[49m\u001b[43mmatrix_3\u001b[49m\u001b[43m,\u001b[49m\u001b[43m \u001b[49m\u001b[43mmatrix_4\u001b[49m\u001b[43m)\u001b[49m\n",
            "\u001b[31mValueError\u001b[39m: operands could not be broadcast together with shapes (3,3) (3,4) "
          ]
        }
      ],
      "source": [
        "sum_2 = np.add(matrix_3, matrix_4)"
      ]
    },
    {
      "cell_type": "markdown",
      "metadata": {
        "id": "kEDmCmRR0dHe"
      },
      "source": [
        "We get this error because shape of matrix_3 and matrix_4 are different"
      ]
    },
    {
      "cell_type": "markdown",
      "metadata": {
        "id": "Xq83epgz0kJQ"
      },
      "source": [
        "**Matrix Subtraction**"
      ]
    },
    {
      "cell_type": "code",
      "execution_count": 13,
      "metadata": {
        "id": "Pn1QFYqR0SQZ"
      },
      "outputs": [],
      "source": [
        "# Creating two matrices\n",
        "\n",
        "A = np.array([[2,3],[4,5]])\n",
        "\n",
        "B = np.array([[6,7],[8,9]])"
      ]
    },
    {
      "cell_type": "code",
      "execution_count": 14,
      "metadata": {
        "colab": {
          "base_uri": "https://localhost:8080/"
        },
        "id": "7Qmyr-Q40y4b",
        "outputId": "146710b7-7215-472b-9191-4acda296f448"
      },
      "outputs": [
        {
          "name": "stdout",
          "output_type": "stream",
          "text": [
            "[[2 3]\n",
            " [4 5]]\n"
          ]
        }
      ],
      "source": [
        "print(A)"
      ]
    },
    {
      "cell_type": "code",
      "execution_count": 15,
      "metadata": {
        "colab": {
          "base_uri": "https://localhost:8080/"
        },
        "id": "jBuK9rvI00gJ",
        "outputId": "85f2ff23-6031-4cf0-dd7f-33d9889e3ede"
      },
      "outputs": [
        {
          "name": "stdout",
          "output_type": "stream",
          "text": [
            "[[6 7]\n",
            " [8 9]]\n"
          ]
        }
      ],
      "source": [
        "print(B)"
      ]
    },
    {
      "cell_type": "code",
      "execution_count": 16,
      "metadata": {
        "id": "7okhnLzd0qgL"
      },
      "outputs": [],
      "source": [
        "difference = A - B"
      ]
    },
    {
      "cell_type": "code",
      "execution_count": 17,
      "metadata": {
        "colab": {
          "base_uri": "https://localhost:8080/"
        },
        "id": "Ywz16T2O0wzU",
        "outputId": "d4e22a45-47a2-4a5d-bc91-15279f2d55f3"
      },
      "outputs": [
        {
          "name": "stdout",
          "output_type": "stream",
          "text": [
            "[[-4 -4]\n",
            " [-4 -4]]\n"
          ]
        }
      ],
      "source": [
        "print(difference)"
      ]
    },
    {
      "cell_type": "code",
      "execution_count": 18,
      "metadata": {
        "id": "Br7jm7EE04cr"
      },
      "outputs": [],
      "source": [
        "# Create two matrices with random values\n",
        "matrix_1 = np.random.randint(10, size=(3,3))\n",
        "matrix_2 = np.random.randint(20, size=(3,3))"
      ]
    },
    {
      "cell_type": "code",
      "execution_count": 19,
      "metadata": {
        "colab": {
          "base_uri": "https://localhost:8080/"
        },
        "id": "FdVPoelG1D_E",
        "outputId": "597c72fb-8d82-47d8-e29a-f43a259db52e"
      },
      "outputs": [
        {
          "name": "stdout",
          "output_type": "stream",
          "text": [
            "[[7 6 5]\n",
            " [9 1 3]\n",
            " [3 8 3]]\n"
          ]
        }
      ],
      "source": [
        "print(matrix_1)"
      ]
    },
    {
      "cell_type": "code",
      "execution_count": 20,
      "metadata": {
        "colab": {
          "base_uri": "https://localhost:8080/"
        },
        "id": "Fx0sECVs1FkR",
        "outputId": "003d9d7c-312d-4401-c9c0-3de392d24595"
      },
      "outputs": [
        {
          "name": "stdout",
          "output_type": "stream",
          "text": [
            "[[18 16  5]\n",
            " [16  1 14]\n",
            " [ 8  3 14]]\n"
          ]
        }
      ],
      "source": [
        "print(matrix_2)"
      ]
    },
    {
      "cell_type": "code",
      "execution_count": 21,
      "metadata": {
        "id": "0_T_doPW1G6t"
      },
      "outputs": [],
      "source": [
        "diff = np.subtract(matrix_1, matrix_2)"
      ]
    },
    {
      "cell_type": "code",
      "execution_count": 22,
      "metadata": {
        "colab": {
          "base_uri": "https://localhost:8080/"
        },
        "id": "6nfnmISG1RFE",
        "outputId": "242b64ab-a0c5-4180-9cf1-0cc3161a9842"
      },
      "outputs": [
        {
          "name": "stdout",
          "output_type": "stream",
          "text": [
            "[[-11 -10   0]\n",
            " [ -7   0 -11]\n",
            " [ -5   5 -11]]\n"
          ]
        }
      ],
      "source": [
        "print(diff)"
      ]
    },
    {
      "cell_type": "markdown",
      "metadata": {
        "id": "FARh8k7E1eqi"
      },
      "source": [
        "**Multiplying a matrix by a scalar**"
      ]
    },
    {
      "cell_type": "code",
      "execution_count": 23,
      "metadata": {
        "colab": {
          "base_uri": "https://localhost:8080/"
        },
        "id": "GnCbHbMw1SIh",
        "outputId": "4fbe14d6-f5ec-431f-d521-d0895051427b"
      },
      "outputs": [
        {
          "name": "stdout",
          "output_type": "stream",
          "text": [
            "[[5 2 3 3]\n",
            " [8 4 0 8]\n",
            " [9 2 1 7]\n",
            " [2 5 3 9]]\n"
          ]
        }
      ],
      "source": [
        "x = 5\n",
        "y = np.random.randint(10, size=(4,4))\n",
        "\n",
        "print(y)"
      ]
    },
    {
      "cell_type": "code",
      "execution_count": 24,
      "metadata": {
        "id": "CzJLkFEC1z_-"
      },
      "outputs": [],
      "source": [
        "product = np.multiply(x,y)"
      ]
    },
    {
      "cell_type": "code",
      "execution_count": 25,
      "metadata": {
        "colab": {
          "base_uri": "https://localhost:8080/"
        },
        "id": "M2_Vks8-159S",
        "outputId": "e19d0b5e-acd0-40e4-e9fb-a654aa0ef016"
      },
      "outputs": [
        {
          "name": "stdout",
          "output_type": "stream",
          "text": [
            "[[25 10 15 15]\n",
            " [40 20  0 40]\n",
            " [45 10  5 35]\n",
            " [10 25 15 45]]\n"
          ]
        }
      ],
      "source": [
        "print(product)"
      ]
    },
    {
      "cell_type": "markdown",
      "metadata": {
        "id": "R57N3wn12FVL"
      },
      "source": [
        "**Multiplying 2 Matrices**"
      ]
    },
    {
      "cell_type": "code",
      "execution_count": 26,
      "metadata": {
        "id": "rXTVv3Z7177t"
      },
      "outputs": [],
      "source": [
        "# create two matrices with random values\n",
        "matrix_3 = np.random.randint(5, size=(3,3))\n",
        "matrix_4 = np.random.randint(5, size=(3,4))"
      ]
    },
    {
      "cell_type": "code",
      "execution_count": 27,
      "metadata": {
        "colab": {
          "base_uri": "https://localhost:8080/"
        },
        "id": "ROz3EoRS2yuU",
        "outputId": "189cc370-2f9a-431b-b460-8bdcff7e856d"
      },
      "outputs": [
        {
          "name": "stdout",
          "output_type": "stream",
          "text": [
            "[[2 0 2]\n",
            " [2 1 2]\n",
            " [2 0 3]]\n"
          ]
        }
      ],
      "source": [
        "print(matrix_3)"
      ]
    },
    {
      "cell_type": "code",
      "execution_count": 28,
      "metadata": {
        "colab": {
          "base_uri": "https://localhost:8080/"
        },
        "id": "zoG3ukbQ20Oe",
        "outputId": "edf50d1e-fe46-4620-e02f-9e95fbc67fe5"
      },
      "outputs": [
        {
          "name": "stdout",
          "output_type": "stream",
          "text": [
            "[[2 1 1 2]\n",
            " [3 4 4 3]\n",
            " [0 1 1 2]]\n"
          ]
        }
      ],
      "source": [
        "print(matrix_4)"
      ]
    },
    {
      "cell_type": "code",
      "execution_count": 29,
      "metadata": {
        "id": "w_6yLuPU22wI"
      },
      "outputs": [],
      "source": [
        "product = np.dot(matrix_3, matrix_4)"
      ]
    },
    {
      "cell_type": "code",
      "execution_count": 30,
      "metadata": {
        "colab": {
          "base_uri": "https://localhost:8080/"
        },
        "id": "pC-BqcFf2_La",
        "outputId": "0d2e01aa-8cbd-45a2-d40b-abeb3f12a4bc"
      },
      "outputs": [
        {
          "name": "stdout",
          "output_type": "stream",
          "text": [
            "[[ 4  4  4  8]\n",
            " [ 7  8  8 11]\n",
            " [ 4  5  5 10]]\n"
          ]
        }
      ],
      "source": [
        "print(product)"
      ]
    },
    {
      "cell_type": "code",
      "execution_count": 31,
      "metadata": {
        "colab": {
          "base_uri": "https://localhost:8080/"
        },
        "id": "KPI6v1ON3Azk",
        "outputId": "30ee2308-90a2-48df-91f2-2169ccb0bd82"
      },
      "outputs": [
        {
          "data": {
            "text/plain": [
              "(3, 4)"
            ]
          },
          "execution_count": 31,
          "metadata": {},
          "output_type": "execute_result"
        }
      ],
      "source": [
        "product.shape"
      ]
    },
    {
      "cell_type": "code",
      "execution_count": 32,
      "metadata": {
        "id": "O733iJUD3DVt"
      },
      "outputs": [],
      "source": [
        "# Create two matrices with random values\n",
        "matrix_3 = np.random.randint(5, size=(3,3))\n",
        "matrix_4 = np.random.randint(5, size=(4,4))"
      ]
    },
    {
      "cell_type": "code",
      "execution_count": 33,
      "metadata": {
        "colab": {
          "base_uri": "https://localhost:8080/",
          "height": 195
        },
        "id": "UQfJFsBm3ces",
        "outputId": "ddb9075e-f6f4-45f7-b401-32b0be380ce9"
      },
      "outputs": [
        {
          "ename": "ValueError",
          "evalue": "shapes (3,3) and (4,4) not aligned: 3 (dim 1) != 4 (dim 0)",
          "output_type": "error",
          "traceback": [
            "\u001b[31m---------------------------------------------------------------------------\u001b[39m",
            "\u001b[31mValueError\u001b[39m                                Traceback (most recent call last)",
            "\u001b[36mCell\u001b[39m\u001b[36m \u001b[39m\u001b[32mIn[33]\u001b[39m\u001b[32m, line 1\u001b[39m\n\u001b[32m----> \u001b[39m\u001b[32m1\u001b[39m product = \u001b[43mnp\u001b[49m\u001b[43m.\u001b[49m\u001b[43mdot\u001b[49m\u001b[43m(\u001b[49m\u001b[43mmatrix_3\u001b[49m\u001b[43m,\u001b[49m\u001b[43m \u001b[49m\u001b[43mmatrix_4\u001b[49m\u001b[43m)\u001b[49m\n",
            "\u001b[31mValueError\u001b[39m: shapes (3,3) and (4,4) not aligned: 3 (dim 1) != 4 (dim 0)"
          ]
        }
      ],
      "source": [
        "product = np.dot(matrix_3, matrix_4)"
      ]
    },
    {
      "cell_type": "markdown",
      "metadata": {
        "id": "HH1UeTSu3zCK"
      },
      "source": [
        "**Element wise Matrix Multiplication**"
      ]
    },
    {
      "cell_type": "code",
      "execution_count": 34,
      "metadata": {
        "id": "3RnqdHlG3gwd"
      },
      "outputs": [],
      "source": [
        "# Create two matrices with random values\n",
        "matrix_3 = np.random.randint(5, size=(3,3))\n",
        "matrix_4 = np.random.randint(5, size=(3,3))"
      ]
    },
    {
      "cell_type": "code",
      "execution_count": 35,
      "metadata": {
        "colab": {
          "base_uri": "https://localhost:8080/"
        },
        "id": "-YPbdmpH3xiS",
        "outputId": "f693ea63-b0cf-4cf7-d5b9-e7e82d4485d4"
      },
      "outputs": [
        {
          "name": "stdout",
          "output_type": "stream",
          "text": [
            "[[2 3 0]\n",
            " [3 4 1]\n",
            " [4 1 0]]\n"
          ]
        }
      ],
      "source": [
        "print(matrix_3)"
      ]
    },
    {
      "cell_type": "code",
      "execution_count": 36,
      "metadata": {
        "colab": {
          "base_uri": "https://localhost:8080/"
        },
        "id": "bL1pQHfP4A5-",
        "outputId": "325887cd-1ddc-4203-d97a-e7b029e0ae68"
      },
      "outputs": [
        {
          "name": "stdout",
          "output_type": "stream",
          "text": [
            "[[1 1 2]\n",
            " [2 0 3]\n",
            " [0 1 4]]\n"
          ]
        }
      ],
      "source": [
        "print(matrix_4)"
      ]
    },
    {
      "cell_type": "code",
      "execution_count": 37,
      "metadata": {
        "id": "qR-6E_qu4DQs"
      },
      "outputs": [],
      "source": [
        "product = np.multiply(matrix_3, matrix_4)"
      ]
    },
    {
      "cell_type": "code",
      "execution_count": null,
      "metadata": {
        "colab": {
          "base_uri": "https://localhost:8080/"
        },
        "id": "Pl5mxpR_4Iv-",
        "outputId": "ee31d531-8cdb-4295-d7e6-1b58fd27c847"
      },
      "outputs": [
        {
          "name": "stdout",
          "output_type": "stream",
          "text": [
            "[[ 1  0  2]\n",
            " [ 4  6 12]\n",
            " [ 0  0  8]]\n"
          ]
        }
      ],
      "source": [
        "print(product)"
      ]
    },
    {
      "cell_type": "code",
      "execution_count": 50,
      "metadata": {
        "id": "7nlCi7Pz4KGK"
      },
      "outputs": [],
      "source": [
        "# Create two matrices with random values\n",
        "matrix_3 = np.random.randint(5, size=(4,3))\n",
        "matrix_4 = np.random.randint(5, size=(4,3))"
      ]
    },
    {
      "cell_type": "code",
      "execution_count": 51,
      "metadata": {
        "colab": {
          "base_uri": "https://localhost:8080/",
          "height": 161
        },
        "id": "pmcwhSf54WVn",
        "outputId": "f2e3b294-f84c-4369-af7e-eaf92935e89e"
      },
      "outputs": [
        {
          "name": "stdout",
          "output_type": "stream",
          "text": [
            "[[4 0 0]\n",
            " [4 0 0]\n",
            " [0 9 0]\n",
            " [8 4 0]]\n"
          ]
        }
      ],
      "source": [
        "product = np.multiply(matrix_3, matrix_4)\n",
        "print (product)"
      ]
    }
  ],
  "metadata": {
    "colab": {
      "provenance": []
    },
    "kernelspec": {
      "display_name": "Python 3",
      "name": "python3"
    },
    "language_info": {
      "codemirror_mode": {
        "name": "ipython",
        "version": 3
      },
      "file_extension": ".py",
      "mimetype": "text/x-python",
      "name": "python",
      "nbconvert_exporter": "python",
      "pygments_lexer": "ipython3",
      "version": "3.13.2"
    }
  },
  "nbformat": 4,
  "nbformat_minor": 0
}
