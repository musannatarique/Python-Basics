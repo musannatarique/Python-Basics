{
 "cells": [
  {
   "cell_type": "code",
   "execution_count": 7,
   "metadata": {},
   "outputs": [],
   "source": [
    "import time\n",
    "import numpy as np"
   ]
  },
  {
   "cell_type": "code",
   "execution_count": 3,
   "metadata": {},
   "outputs": [
    {
     "name": "stdout",
     "output_type": "stream",
     "text": [
      "100000000\n",
      "26.914185762405396\n"
     ]
    }
   ],
   "source": [
    "#Time \n",
    "start = time.time()\n",
    "\n",
    "a = [i for i in range(100000000)]\n",
    "b = [i for i in range(100000000, 200000000)]\n",
    "c = []\n",
    "\n",
    "for i in range(len(a)):\n",
    "    c.append(a[i] + b[i])\n",
    "\n",
    "print (len(a))\n",
    "print(time.time() - start)\n"
   ]
  },
  {
   "cell_type": "code",
   "execution_count": null,
   "metadata": {},
   "outputs": [
    {
     "name": "stdout",
     "output_type": "stream",
     "text": [
      "1.0268402099609375\n"
     ]
    }
   ],
   "source": [
    "#Numpy\n",
    "start = time.time()\n",
    "\n",
    "a = np.arange(100000000)\n",
    "b = np.arange(100000000, 200000000)\n",
    "c = a + b\n",
    "\n",
    "print(time.time() - start)\n"
   ]
  },
  {
   "cell_type": "markdown",
   "metadata": {},
   "source": [
    "Arrays"
   ]
  },
  {
   "cell_type": "code",
   "execution_count": null,
   "metadata": {},
   "outputs": [
    {
     "name": "stdout",
     "output_type": "stream",
     "text": [
      "[1 2 3]\n",
      "[[1 2]\n",
      " [4 5]\n",
      " [4 2]]\n",
      "Datatype = int64\n",
      "Shape = (3, 2)\n",
      "Size = 6\n",
      "Dimension = 2\n"
     ]
    }
   ],
   "source": [
    "#Numpy Array\n",
    "numpy_array = np.array([1,2,3]) # One Dimensional \n",
    "print(numpy_array) \n",
    "numpy_array_2 = np.array([[1,2],[4,5],[4,2]]) # Multi Dimensional\n",
    "print(numpy_array_2)\n",
    "print(\"Datatype =\", numpy_array_2.dtype)\n",
    "print(\"Shape =\",numpy_array_2.shape)\n",
    "print(\"Size =\",numpy_array_2.size)\n",
    "print(\"Dimension =\",numpy_array_2.ndim) \n"
   ]
  },
  {
   "cell_type": "code",
   "execution_count": 22,
   "metadata": {},
   "outputs": [
    {
     "name": "stdout",
     "output_type": "stream",
     "text": [
      "[[0 0 0]\n",
      " [0 0 0]] \n",
      " int64\n",
      "[[1 1 1]\n",
      " [1 1 1]\n",
      " [1 1 1]] \n",
      " int64\n"
     ]
    }
   ],
   "source": [
    "#All Zeros \n",
    "zeros = np.zeros((2,3),dtype=int) # dtype for change type\n",
    "print(zeros, \"\\n\", zeros.dtype) \n",
    "#All Ones\n",
    "ones = np.ones((3,3),dtype=int) # dtype for change type\n",
    "print(ones, \"\\n\", ones.dtype) \n"
   ]
  },
  {
   "cell_type": "code",
   "execution_count": 43,
   "metadata": {},
   "outputs": [
    {
     "name": "stdout",
     "output_type": "stream",
     "text": [
      "[ 0  1  2  3  4  5  6  7  8  9 10]\n",
      "[1.         1.44444444 1.88888889 2.33333333 2.77777778 3.22222222\n",
      " 3.66666667 4.11111111 4.55555556 5.        ]\n"
     ]
    }
   ],
   "source": [
    "# 1st code: np.arange(11)\n",
    "arr_r = np.arange(11)  # Creates an array of integers from 0 to 10 (11 is excluded)\n",
    "print(arr_r)  \n",
    "\n",
    "\n",
    "# 2nd code: np.linspace(1, 5, 10)\n",
    "arr_d = np.linspace(1, 5, 10)  \n",
    "# Creates 10 evenly spaced numbers between 1 and 5 (inclusive)\n",
    "\"\"\"The range is from 1 to 5, which is a difference of 4. \n",
    "We need 10 numbers, so there are 9 intervals (since 10 elements create 9 gaps). \n",
    "Step size = 4 / 10 ≈ 0.44444444. \n",
    "Numbers generated: 1, 1 + 0.4444, 1 + 2*0.4444, 1 + 3*0.4444, ..., 1 + 9*0.4444\"\"\"\n",
    "print(arr_d) "
   ]
  }
 ],
 "metadata": {
  "kernelspec": {
   "display_name": "Python 3",
   "language": "python",
   "name": "python3"
  },
  "language_info": {
   "codemirror_mode": {
    "name": "ipython",
    "version": 3
   },
   "file_extension": ".py",
   "mimetype": "text/x-python",
   "name": "python",
   "nbconvert_exporter": "python",
   "pygments_lexer": "ipython3",
   "version": "3.12.9"
  }
 },
 "nbformat": 4,
 "nbformat_minor": 2
}
