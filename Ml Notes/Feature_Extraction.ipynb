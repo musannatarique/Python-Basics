{
 "cells": [
  {
   "cell_type": "code",
   "execution_count": 1,
   "metadata": {},
   "outputs": [],
   "source": [
    "from sklearn.feature_extraction.text import TfidfVectorizer"
   ]
  },
  {
   "cell_type": "code",
   "execution_count": 2,
   "metadata": {},
   "outputs": [],
   "source": [
    "#Sample Documents\n",
    "Documents = [\n",
    "    \"AI is the future of technology.\",\n",
    "    \"AI and machine learning are transforming technology.\",\n",
    "    \"The future of AI is promising.\"\n",
    "]"
   ]
  },
  {
   "cell_type": "code",
   "execution_count": 3,
   "metadata": {},
   "outputs": [],
   "source": [
    "# Initialize the TF-IDF Vectorizer\n",
    "vectorizer = TfidfVectorizer()"
   ]
  },
  {
   "cell_type": "code",
   "execution_count": 4,
   "metadata": {},
   "outputs": [],
   "source": [
    "#Fit and transform the documents\n",
    "tfidf_matrix = vectorizer.fit_transform(Documents)\n"
   ]
  },
  {
   "cell_type": "code",
   "execution_count": 5,
   "metadata": {},
   "outputs": [],
   "source": [
    "# Get feature names\n",
    "feature_names = vectorizer.get_feature_names_out()"
   ]
  },
  {
   "cell_type": "code",
   "execution_count": 6,
   "metadata": {},
   "outputs": [],
   "source": [
    "# Convert to a DataFrame for better visualization\n",
    "import pandas as pd\n",
    "tfidf_df = pd.DataFrame(tfidf_matrix.toarray(), columns=feature_names)\n"
   ]
  },
  {
   "cell_type": "code",
   "execution_count": 7,
   "metadata": {},
   "outputs": [
    {
     "name": "stdout",
     "output_type": "stream",
     "text": [
      "         ai       and       are    future        is  learning   machine  \\\n",
      "0  0.328078  0.000000  0.000000  0.422461  0.422461  0.000000  0.000000   \n",
      "1  0.242594  0.410747  0.410747  0.000000  0.000000  0.410747  0.410747   \n",
      "2  0.308618  0.000000  0.000000  0.397402  0.397402  0.000000  0.000000   \n",
      "\n",
      "         of  promising  technology       the  transforming  \n",
      "0  0.422461   0.000000    0.422461  0.422461      0.000000  \n",
      "1  0.000000   0.000000    0.312384  0.000000      0.410747  \n",
      "2  0.397402   0.522535    0.000000  0.397402      0.000000  \n"
     ]
    }
   ],
   "source": [
    "# Display the TF-IDF scores\n",
    "print(tfidf_df)\n"
   ]
  }
 ],
 "metadata": {
  "kernelspec": {
   "display_name": "Python 3",
   "language": "python",
   "name": "python3"
  },
  "language_info": {
   "codemirror_mode": {
    "name": "ipython",
    "version": 3
   },
   "file_extension": ".py",
   "mimetype": "text/x-python",
   "name": "python",
   "nbconvert_exporter": "python",
   "pygments_lexer": "ipython3",
   "version": "3.8.10"
  }
 },
 "nbformat": 4,
 "nbformat_minor": 2
}
