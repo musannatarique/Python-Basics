{
 "cells": [
  {
   "cell_type": "code",
   "execution_count": 6,
   "metadata": {},
   "outputs": [
    {
     "name": "stdout",
     "output_type": "stream",
     "text": [
      "Hello Batman\n",
      "Better\n"
     ]
    }
   ],
   "source": [
    "#Indentation\n",
    "#Rule 1: Minimum one space is needed to represent Indentation\n",
    "#Rule 2: 1st line can't have Space or Indentation\n",
    "#Rule 3: Indentation is mandatory to define a block of code\n",
    "#Rule 4: Indentation space must be uniform\n",
    "name = 'same'\n",
    "if name == 'same': # Try Use different word it will print else part\n",
    "    print ('Hello Batman') #Indentation \n",
    "else:\n",
    "    print ('SuperMan') #Indentation\n",
    "print ('Better') #Not part of if else\n",
    "#Rule 5: RPEL stands for:   Read --- Evaluate --- Print --- Loop "
   ]
  },
  {
   "cell_type": "code",
   "execution_count": 7,
   "metadata": {},
   "outputs": [
    {
     "data": {
      "text/plain": [
       "26.0"
      ]
     },
     "execution_count": 7,
     "metadata": {},
     "output_type": "execute_result"
    }
   ],
   "source": [
    "#Arithmetic Operators \n",
    "#Operator: a special symbol that performs an operation on operands\n",
    "#Operand: a value/variable to which the operation is applied\n",
    "# +  ---\tAddition\t\t\n",
    "# -  ---\tSubtraction\t\n",
    "# *  ---\tMultiplication\t\n",
    "# /  ---\tDivision\t\n",
    "# %  ---\tModulus\t\t\n",
    "# ** ---\tExponentiation\t\n",
    "# // ---\tFloor division Or Integer Division\n",
    "#Precedence of Arithmetic Operators: (),{},[] >> ** >> +a, -a >> %, // , / , * >> +, -\n",
    "10 + 8 ** 2/4 # ** ---\tExponentiation Do 1st Then /  ---\tDivision After That +  ---\tAddition\t"
   ]
  },
  {
   "cell_type": "code",
   "execution_count": 90,
   "metadata": {},
   "outputs": [
    {
     "data": {
      "text/plain": [
       "True"
      ]
     },
     "execution_count": 90,
     "metadata": {},
     "output_type": "execute_result"
    }
   ],
   "source": [
    "#Comparison Operators\n",
    "# ==\tEqual\t\n",
    "# !=\tNot equal\t\n",
    "# >\tGreater than\t\n",
    "# <\tLess than\t\n",
    "# >=\tGreater than or equal to\t\n",
    "# <=\tLess than or equal to\n",
    "X=5.2\n",
    "Y= 6.7\n",
    "X != Y"
   ]
  },
  {
   "cell_type": "code",
   "execution_count": null,
   "metadata": {},
   "outputs": [
    {
     "name": "stdout",
     "output_type": "stream",
     "text": [
      "0\n",
      "0b1111\n",
      "-0b1011\n",
      "-11\n",
      "0b1111\n"
     ]
    }
   ],
   "source": [
    "#Bitwise Operators \n",
    "# Bitwise AND --- &\n",
    "# Bitwise OR --- |\n",
    "# Bitwise NOT --- ~\n",
    "# Bitwise XOR --- ^\n",
    "X= 10\n",
    "Y= 5\n",
    "# &--Return 1 if both bits are 1; else 0\n",
    "print(bin(X&Y))\n",
    "# |--Return 1 if any bits are 1; else 0\n",
    "print(bin(X|Y))\n",
    "# ~ -- Return one's complement of a number\n",
    "print(bin(~X)) # Their are extra bit in 1st to represent sign\n",
    "print(~X) # Should be 5 but will change to -11 because of the extra bit \n",
    "#&--Return 1 if one bits are 1; else 0\n",
    "print(bin(X^Y)) \n"
   ]
  },
  {
   "cell_type": "code",
   "execution_count": null,
   "metadata": {},
   "outputs": [
    {
     "name": "stdout",
     "output_type": "stream",
     "text": [
      "0b11\n",
      "3\n",
      "0b110000\n",
      "48\n"
     ]
    }
   ],
   "source": [
    "#Bitwise  Shift Operator\n",
    "#Shifts the bits of a binary number towards the left or right\n",
    "X= 12 # 01100\n",
    "#Bitwise Right Shift Operator\n",
    "# As a consequence, it devids the number by 2^n\n",
    "print(bin(X >> 2))\n",
    "print(X>>2)\n",
    "#Bitwise Left Shift Operator\n",
    "# As a consequence, it multiplies the number by 2^n\n",
    "print(bin(X << 2))\n",
    "print(X<<2)\n"
   ]
  },
  {
   "cell_type": "code",
   "execution_count": 93,
   "metadata": {},
   "outputs": [
    {
     "name": "stdout",
     "output_type": "stream",
     "text": [
      "30\n",
      "10\n"
     ]
    }
   ],
   "source": [
    "##Assignment Operators\n",
    "# Rule: Assignment Operators can't directly print inside a print() statement.\n",
    "# =  ---\tAssign\n",
    "# +=  ---\tAddition and Assign\t\t\n",
    "# -=  ---\tSubtraction\tand Assign\n",
    "# *= ---\tMultiplication and Assign\t\n",
    "# /=  ---\tDivision and Assign\t\n",
    "# %=  ---\tModulus and Assign\t\t\n",
    "# **= ---\tExponentiation and Assign\t\n",
    "# //= ---\tFloor division Or Integer Division and Assign\n",
    "# Bitwise AND and Assign  --- &=\n",
    "# Bitwise OR and Assign --- |=\n",
    "# Bitwise NOT and Assign --- ~=\n",
    "# Bitwise XOR and Assign --- ^=\n",
    "# Bitwise right shift and Assign --- >>=\n",
    "# Bitwise left shift and Assign --- <<=\n",
    "X= 10\n",
    "Y= 20\n",
    "X += Y\n",
    "print(X)\n",
    "X ^= Y\n",
    "print(X)"
   ]
  },
  {
   "cell_type": "code",
   "execution_count": 8,
   "metadata": {},
   "outputs": [
    {
     "name": "stdout",
     "output_type": "stream",
     "text": [
      "What's up \n",
      "Superman\n"
     ]
    }
   ],
   "source": [
    "#Basic if-elase\n",
    "name = 'same'\n",
    "if name == 'same': #: means then\n",
    "    print (\"What's up \")   # Boolean Type If elase\n",
    "else:\n",
    "    print ('Batman') \n",
    "print ('Superman') # Not part of if elase"
   ]
  },
  {
   "cell_type": "code",
   "execution_count": 9,
   "metadata": {},
   "outputs": [
    {
     "name": "stdout",
     "output_type": "stream",
     "text": [
      "X is Batman\n",
      "X is Batman\n",
      "X is Superman\n"
     ]
    }
   ],
   "source": [
    "#Logical Operators\n",
    "# Logical AND = and\n",
    "# Logical OR = or\n",
    "# Logical NOT = not -- Unary operators\n",
    "X=30\n",
    "Y=20\n",
    "Z=10\n",
    "if X>Y and X>Z: # : means then\n",
    "    print(\"X is Batman\")\n",
    "else: \n",
    "    print('X is Superman')\n",
    "\n",
    "if X>Y or Y>X: # : means then\n",
    "    print(\"X is Batman\")\n",
    "else: \n",
    "    print('X is Superman')\n",
    "\n",
    "if not(X>Y): # : means then\n",
    "    print(\"X is Batman\")\n",
    "else: \n",
    "    print('X is Superman')   "
   ]
  },
  {
   "cell_type": "code",
   "execution_count": 96,
   "metadata": {},
   "outputs": [
    {
     "name": "stdout",
     "output_type": "stream",
     "text": [
      "True\n",
      "False\n"
     ]
    }
   ],
   "source": [
    "#Membership Operators\n",
    "str ='Batman'\n",
    "substr='man'\n",
    "#in --- Returns True if the specified value is the member of the sequence \n",
    "x = substr in str\n",
    "print(x)\n",
    "#not in --- Returns True if the specified value is not the member of the sequence\n",
    "x = substr not in str\n",
    "print(x)"
   ]
  },
  {
   "cell_type": "code",
   "execution_count": 97,
   "metadata": {},
   "outputs": [
    {
     "name": "stdout",
     "output_type": "stream",
     "text": [
      "1972415874464 1972415874464\n",
      "True\n",
      "False\n",
      "1972427922048 1972427575552\n",
      "False\n"
     ]
    }
   ],
   "source": [
    "#Identity Operators\n",
    "#Each object in Python has a memory location identified using a unique ID.\n",
    "#The ID of an object can be checked using the id() function.\n",
    "#Syntax: id(object_name)\n",
    "A='batman'\n",
    "B='batman'\n",
    "print(id(A),id(B))\n",
    "# is --- Return true if both id is same\n",
    "print(A is B)\n",
    "# is not --- Return true if both id is  not same\n",
    "print(A is not B)\n",
    "#Equality operator (==) is used to compare the values.\n",
    "X= [1,2,3]\n",
    "Y= [1,2,3]\n",
    "print(id(X),id(Y))\n",
    "print(X is Y)"
   ]
  },
  {
   "cell_type": "code",
   "execution_count": 98,
   "metadata": {},
   "outputs": [
    {
     "name": "stdout",
     "output_type": "stream",
     "text": [
      "26 58 250\n"
     ]
    }
   ],
   "source": [
    "#Conversion\n",
    "X=0b11010 #Binary To Decimal\n",
    "Y=0o72 #Octa to Decimal\n",
    "Z=0xFa #Hexa to Decimal\n",
    "print(X,Y,Z)"
   ]
  },
  {
   "cell_type": "code",
   "execution_count": 99,
   "metadata": {},
   "outputs": [
    {
     "data": {
      "text/plain": [
       "0.0173"
      ]
     },
     "execution_count": 99,
     "metadata": {},
     "output_type": "execute_result"
    }
   ],
   "source": [
    "1.73e-2 #Floating Type Data"
   ]
  },
  {
   "cell_type": "code",
   "execution_count": 100,
   "metadata": {},
   "outputs": [
    {
     "data": {
      "text/plain": [
       "'Hello'"
      ]
     },
     "execution_count": 100,
     "metadata": {},
     "output_type": "execute_result"
    }
   ],
   "source": [
    "'Hello' #Str Data"
   ]
  },
  {
   "cell_type": "code",
   "execution_count": 10,
   "metadata": {},
   "outputs": [
    {
     "name": "stdout",
     "output_type": "stream",
     "text": [
      "Hello -- \"Im Batman from Paraller Universe\". What's up\n"
     ]
    }
   ],
   "source": [
    "#\"Strings\"\n",
    "#Alternatively, single or double quotes within a string can be escaped using backslash character.\n",
    "x =\"Hello -- \\\"Im Batman from Paraller Universe\\\". \" # \"\\ \n",
    "y ='What\\'s up' # \\'\n",
    "print (x+y)"
   ]
  },
  {
   "cell_type": "code",
   "execution_count": 102,
   "metadata": {},
   "outputs": [
    {
     "name": "stdout",
     "output_type": "stream",
     "text": [
      "Hi how are you?\n",
      "I'm good what about you?\n"
     ]
    }
   ],
   "source": [
    "#Multi line String'\n",
    "x =\"\"\"Hi how are you?\n",
    "I'm good what about you?\"\"\"\n",
    "print (x)"
   ]
  },
  {
   "cell_type": "code",
   "execution_count": 103,
   "metadata": {},
   "outputs": [
    {
     "data": {
      "text/plain": [
       "'g'"
      ]
     },
     "execution_count": 103,
     "metadata": {},
     "output_type": "execute_result"
    }
   ],
   "source": [
    "#Accessing  Characters\n",
    "X=\"Rog\"\n",
    "X[-1] #Negative Index"
   ]
  },
  {
   "cell_type": "code",
   "execution_count": 104,
   "metadata": {},
   "outputs": [
    {
     "name": "stdout",
     "output_type": "stream",
     "text": [
      "at\n",
      "Bat\n"
     ]
    }
   ],
   "source": [
    "#Sub Strings\n",
    "x =  'Batman'\n",
    "print (x [-5:-3])\n",
    "print (x [0:3]) #n+1 "
   ]
  },
  {
   "cell_type": "code",
   "execution_count": 105,
   "metadata": {},
   "outputs": [
    {
     "name": "stdout",
     "output_type": "stream",
     "text": [
      "Batman\n"
     ]
    }
   ],
   "source": [
    "#String Operators\n",
    "x = 'Bat'\n",
    "y = 'man'\n",
    "print(x+y) "
   ]
  },
  {
   "cell_type": "code",
   "execution_count": 106,
   "metadata": {},
   "outputs": [
    {
     "name": "stdout",
     "output_type": "stream",
     "text": [
      "phonesphones\n"
     ]
    }
   ],
   "source": [
    "#String Operators\n",
    "x = 2\n",
    "y = 'phones'\n",
    "print(x*y) #Multiple Copies "
   ]
  },
  {
   "cell_type": "code",
   "execution_count": null,
   "metadata": {},
   "outputs": [
    {
     "name": "stdout",
     "output_type": "stream",
     "text": [
      "False True False True\n"
     ]
    }
   ],
   "source": [
    "#String Operators\n",
    "A1='Hello' == 'hello' \n",
    "A2='Hello' != 'hello' # ! = \n",
    "A3='Hello' >= 'hello' \n",
    "A4='Hello' <= 'hello' #Comparisons are case-sensitive\n",
    "print(A1,A2,A3,A4)"
   ]
  },
  {
   "cell_type": "code",
   "execution_count": 108,
   "metadata": {},
   "outputs": [
    {
     "name": "stdout",
     "output_type": "stream",
     "text": [
      "True False\n"
     ]
    }
   ],
   "source": [
    "#String Operators\n",
    "A1= 'Bat' in 'Batman' #in \n",
    "A2= 'Bat' not in 'Batman' #not in \n",
    "print (A1, A2)"
   ]
  },
  {
   "cell_type": "code",
   "execution_count": 109,
   "metadata": {},
   "outputs": [
    {
     "name": "stdout",
     "output_type": "stream",
     "text": [
      "Japan is \"hot\n",
      "Backslash: \\A\n",
      "New line: \n",
      "Batman\n",
      "Barriage Return \n",
      "Tab:\tBatman\n",
      "Backspace:A\n",
      "Octal value: J\n",
      "Hexadecimal value: H\n"
     ]
    }
   ],
   "source": [
    "#String Operators\n",
    "print(\"Japan is \\\"hot\") #\\Escpae (for not allowed character) lie ' \"\n",
    "print('Backslash: \\\\A')\n",
    "print('New line: \\nBatman')\n",
    "print('Carriage Return \\rB') #C change to B\n",
    "print('Tab:\\tBatman') # Spaces\n",
    "print('Backspace: \\bA') #Backspace\n",
    "print('Octal value: \\112')\n",
    "print('Hexadecimal value: \\x48')"
   ]
  },
  {
   "cell_type": "code",
   "execution_count": 110,
   "metadata": {},
   "outputs": [
    {
     "name": "stdout",
     "output_type": "stream",
     "text": [
      "Name: Alice, Age: 30, Height: 1.65\n"
     ]
    }
   ],
   "source": [
    "#String Formatting\n",
    "name = \"Alice\"\n",
    "age = 30\n",
    "height = 1.65\n",
    "print(\"Name: %s, Age: %d, Height: %.2f\" % (name, age, height)) # %.2f is Use to take floating-point number to two decimal places.\n",
    "# %d: Used to format an integer.\n",
    "# %c: Used to format a character.\n",
    "# %f: Used to format a floating-point number.\n",
    "# %s: Used to format a string."
   ]
  },
  {
   "cell_type": "code",
   "execution_count": 111,
   "metadata": {},
   "outputs": [
    {
     "data": {
      "text/plain": [
       "\"I'm Batman from Gotham City\""
      ]
     },
     "execution_count": 111,
     "metadata": {},
     "output_type": "execute_result"
    }
   ],
   "source": [
    "#String Formatting\n",
    "A= \"Gotham\"\n",
    "B= \"Batman\"\n",
    "\"I'm {1} from {0} City\".format(A,B)\n",
    "#The placeholders are replaced by curly braces in this technique.\n"
   ]
  },
  {
   "cell_type": "code",
   "execution_count": 112,
   "metadata": {},
   "outputs": [
    {
     "data": {
      "text/plain": [
       "\"I'm BATMAN from GOTHAM City\""
      ]
     },
     "execution_count": 112,
     "metadata": {},
     "output_type": "execute_result"
    }
   ],
   "source": [
    "#String Formatting\n",
    "A= \"Gotham\"\n",
    "B= \"Batman\"\n",
    "f\"I'm {B.upper()} from {A.upper()} City\" \n",
    "#Call methods () is important"
   ]
  },
  {
   "cell_type": "code",
   "execution_count": 113,
   "metadata": {},
   "outputs": [
    {
     "data": {
      "text/plain": [
       "\"I'm 80.68% made of water\""
      ]
     },
     "execution_count": 113,
     "metadata": {},
     "output_type": "execute_result"
    }
   ],
   "source": [
    "#String Formatting\n",
    "\"I'm {0:.2f}% made of water\".format(80.678507859)"
   ]
  },
  {
   "cell_type": "code",
   "execution_count": 114,
   "metadata": {},
   "outputs": [
    {
     "data": {
      "text/plain": [
       "'Superman'"
      ]
     },
     "execution_count": 114,
     "metadata": {},
     "output_type": "execute_result"
    }
   ],
   "source": [
    "#String Slicing\n",
    "A= 'S-u-p-e-r-m-a-n'\n",
    "A[0:15:2] #Step value - specifies the number of elements to skip when slicing the string."
   ]
  },
  {
   "cell_type": "code",
   "execution_count": 115,
   "metadata": {},
   "outputs": [
    {
     "data": {
      "text/plain": [
       "'AAA'"
      ]
     },
     "execution_count": 115,
     "metadata": {},
     "output_type": "execute_result"
    }
   ],
   "source": [
    "#String Slicing\n",
    "X= 'ABC'*3\n",
    "X[0::3] #Keeping the first parameter and eliminating the second parameter or vice versa is also allowed."
   ]
  },
  {
   "cell_type": "code",
   "execution_count": 116,
   "metadata": {},
   "outputs": [
    {
     "data": {
      "text/plain": [
       "'X+Y=70'"
      ]
     },
     "execution_count": 116,
     "metadata": {},
     "output_type": "execute_result"
    }
   ],
   "source": [
    "# f-Strings\n",
    "X=30\n",
    "Y=40\n",
    "f\"X+Y={X+Y}\" # {Evaluated as  Vlaue} \n",
    "# {{}} Means Get {X+Y}\n",
    "#{{{X+Y}}} Meens Get 70"
   ]
  },
  {
   "cell_type": "code",
   "execution_count": 117,
   "metadata": {},
   "outputs": [
    {
     "name": "stdout",
     "output_type": "stream",
     "text": [
      "Batman\n",
      "Batman##\n",
      "##Batman\n"
     ]
    }
   ],
   "source": [
    "#String Methods -- Strip\n",
    "print('###Batman###'.strip('#'))\n",
    "#strip leading trailing  remover also add '' Also note strip will see only 1st and last chracter \n",
    "print('##Batman##'.lstrip('#'))\n",
    "#lstrip leading  remover also add '' Also note strip will see only 1st chracter \n",
    "print('##Batman##'.rstrip('#'))\n",
    "#rstrip trailing  remover also add '' Also note strip will see only last chracter \n",
    "\n"
   ]
  },
  {
   "cell_type": "code",
   "execution_count": 118,
   "metadata": {},
   "outputs": [
    {
     "name": "stdout",
     "output_type": "stream",
     "text": [
      "['Im ', 'Batmann', ' $']\n",
      "['Im $Batmann', ' ', '']\n"
     ]
    }
   ],
   "source": [
    "#String Methods -- Split\n",
    "print(\"Im $Batmann$ $\".split(\"$\", maxsplit=2))\n",
    "print(\"Im $Batmann$ $\".rsplit(\"$\", maxsplit=2))"
   ]
  },
  {
   "cell_type": "code",
   "execution_count": 119,
   "metadata": {},
   "outputs": [
    {
     "name": "stdout",
     "output_type": "stream",
     "text": [
      "B.A.T.M.A.N\n",
      "B & M\n"
     ]
    }
   ],
   "source": [
    "#String Methods -- Join\n",
    "#Used to join the elements of an iterable.\n",
    "#Syntax: separator.join(iterable)\n",
    "A1 = ('B', 'A', 'T', 'M', 'A', 'N')\n",
    "print ('.'.join(A1) )\n",
    "#Only keys are combined not values\n",
    "A2 = {'B':'32', 'M' : 'A'}\n",
    "print (' & '.join(A2) )\n"
   ]
  },
  {
   "cell_type": "code",
   "execution_count": 120,
   "metadata": {},
   "outputs": [
    {
     "data": {
      "text/plain": [
       "\"I'm Superman & Batman\""
      ]
     },
     "execution_count": 120,
     "metadata": {},
     "output_type": "execute_result"
    }
   ],
   "source": [
    "#String Methods -- Replace\n",
    "#Used to replace a specified string with another string.\n",
    "#string.replace(oldString, newString, count)\n",
    "A1 = \"I'm Batman & Batman\"\n",
    "A1.replace('Batman', 'Superman', 1) # 1 is for how many tine i want to replace the word\n"
   ]
  },
  {
   "cell_type": "code",
   "execution_count": 121,
   "metadata": {},
   "outputs": [
    {
     "data": {
      "text/plain": [
       "'BATMAN'"
      ]
     },
     "execution_count": 121,
     "metadata": {},
     "output_type": "execute_result"
    }
   ],
   "source": [
    "#String Methods -- Upper\n",
    "\"batman\".upper()"
   ]
  },
  {
   "cell_type": "code",
   "execution_count": 122,
   "metadata": {},
   "outputs": [
    {
     "data": {
      "text/plain": [
       "'batman'"
      ]
     },
     "execution_count": 122,
     "metadata": {},
     "output_type": "execute_result"
    }
   ],
   "source": [
    "#String Methods -- Lower\n",
    "\"BATMAN\".lower()"
   ]
  },
  {
   "cell_type": "code",
   "execution_count": 123,
   "metadata": {},
   "outputs": [
    {
     "data": {
      "text/plain": [
       "'Batman'"
      ]
     },
     "execution_count": 123,
     "metadata": {},
     "output_type": "execute_result"
    }
   ],
   "source": [
    "#String Methods -- Capitalize\n",
    "\"batman\".capitalize() #Only 1st Character"
   ]
  },
  {
   "cell_type": "code",
   "execution_count": 124,
   "metadata": {},
   "outputs": [
    {
     "name": "stdout",
     "output_type": "stream",
     "text": [
      "False\n",
      "True\n",
      "True\n",
      "False\n",
      "True\n"
     ]
    }
   ],
   "source": [
    "#String Methods -- Is---\n",
    "print('Batman'.isupper())\n",
    "print('batman'.islower())\n",
    "print('batman'.isalpha()) # True if all character is alphabet (Even having space will return false)\n",
    "print('0.007'.isnumeric()) # True if all character is number (Even having decimal will return false)\n",
    "print('batman69'.isalnum()) #True if all character is number and alphabet"
   ]
  },
  {
   "cell_type": "code",
   "execution_count": 125,
   "metadata": {},
   "outputs": [
    {
     "data": {
      "text/plain": [
       "2"
      ]
     },
     "execution_count": 125,
     "metadata": {},
     "output_type": "execute_result"
    }
   ],
   "source": [
    "#String Methods -- count\n",
    "#Finds the number of occurrences of a substring in a given string.\n",
    "#If the substring is not found, then it returns 0.\n",
    "#string.count(sub, start, end)\n",
    "\"I love Wonder-Women. Wonder-Women makes me horny\".count('Wonder',0,-1)"
   ]
  },
  {
   "cell_type": "code",
   "execution_count": 126,
   "metadata": {},
   "outputs": [
    {
     "name": "stdout",
     "output_type": "stream",
     "text": [
      "7\n",
      "28\n"
     ]
    }
   ],
   "source": [
    "#String Methods -- find\n",
    "#Returns the index of the first occurrence of the substring.\n",
    "#If the substring is not found, then it returns -1.\n",
    "#string.find(sub, start, end)\n",
    "print(\"I love Wonder-Women. Wonder-Women makes me horny\".find('W',0,-1))\n",
    "#String Methods -- rfind\n",
    "#Returns the index of the last occurrence of the substring.\n",
    "#If the substring is not found, then it returns -1.\n",
    "#string.rfind(sub, start, end)\n",
    "print(\"I love Wonder-Women. Wonder-Women makes me horny\".rfind('W',0,-1))"
   ]
  },
  {
   "cell_type": "code",
   "execution_count": 127,
   "metadata": {},
   "outputs": [
    {
     "name": "stdout",
     "output_type": "stream",
     "text": [
      "7\n",
      "28\n"
     ]
    }
   ],
   "source": [
    "#String Methods -- index\n",
    "#Returns the index of the frist occurrence of the substring.\n",
    "#f the substring is not found, it raises an exception (ValueError).\n",
    "#string.index(sub, start, end)\n",
    "print(\"I love Wonder-Women. Wonder-Women makes me horny\".index('W',0,-1))\n",
    "#String Methods -- rindex\n",
    "#Returns the index of the last occurrence of the substring.\n",
    "#f the substring is not found, it raises an exception (ValueError).\n",
    "#string.index(sub, start, end)\n",
    "print(\"I love Wonder-Women. Wonder-Women makes me horny\".rindex('W',0,-1))"
   ]
  },
  {
   "cell_type": "code",
   "execution_count": 128,
   "metadata": {},
   "outputs": [
    {
     "name": "stdout",
     "output_type": "stream",
     "text": [
      "X = 50.78\n"
     ]
    }
   ],
   "source": [
    "#Implicit Type Conversion \n",
    "#Ability of Python to convert an object from one data type to another without any intervention from the programmer.\n",
    "#Rule of conversion: Lower data type is converted to the higher data type.   \n",
    "Example=(10.78+ 40)\n",
    "print(f\"X = {Example}\")\n",
    "#Integer < Float < Complex\n",
    "#In C, it is possible that the value of a higher data type can be converted to a lower data type.\n",
    "#In Python, implicit conversion of a higher to a lower data type is not possible."
   ]
  },
  {
   "cell_type": "code",
   "execution_count": 143,
   "metadata": {},
   "outputs": [
    {
     "name": "stdout",
     "output_type": "stream",
     "text": [
      "<class 'str'>\n",
      "272\n",
      "<class 'int'>\n",
      "272.0\n",
      "<class 'float'>\n"
     ]
    }
   ],
   "source": [
    "#Explicit Type Conversion\n",
    "x ='110'\n",
    "print(type(x))\n",
    "#Refers to the conversion of object of one type to integer type via programmer's intervention.\n",
    "#Syntax: int(value, base) \n",
    "x =int(x,16) #16 is base (Binary, Octa, Hexa, Decimal ..)\n",
    "print(x)\n",
    "print(type(x))\n",
    "#Refers to the conversion of object of one type to float type via programmer's intervention.\n",
    "#Syntax: float(value) \n",
    "x =float(x) \n",
    "print(x)\n",
    "print(type(x))\n"
   ]
  },
  {
   "cell_type": "code",
   "execution_count": 137,
   "metadata": {},
   "outputs": [
    {
     "name": "stdout",
     "output_type": "stream",
     "text": [
      "120\n"
     ]
    }
   ],
   "source": [
    "#Multiline Statement\n",
    "#Statements can be extended using continuation character , parentheses (), square brackets [], or curly brackets {}.\n",
    "x =10 + 20 + \\\n",
    "40 + 50\n",
    "print(x)\n",
    "#Comments are : #, \"\"\"\" \"\"\"\" , ''' '''"
   ]
  },
  {
   "cell_type": "code",
   "execution_count": 138,
   "metadata": {},
   "outputs": [
    {
     "name": "stdout",
     "output_type": "stream",
     "text": [
      "0b1010 8\n"
     ]
    }
   ],
   "source": [
    "#Quiz\n",
    "A=bin(10&-5)\n",
    "B=32>>2\n",
    "print(A,B)\n"
   ]
  },
  {
   "cell_type": "code",
   "execution_count": 139,
   "metadata": {},
   "outputs": [
    {
     "name": "stdout",
     "output_type": "stream",
     "text": [
      "3 5\n",
      "2 4.2\n"
     ]
    }
   ],
   "source": [
    "#Lists\n",
    "#A collection of similar or different types of data items.\n",
    "#A list is created by placing items inside [] separated by commas. \n",
    "#Rule: Giving Variable is must\n",
    "\n",
    "#Single-Dimentional List \n",
    "X= [1,3,5] #A single-dimensional list is a list where elements are listed one after the other.\n",
    "print(X[1],X[-1])  #Accessing Elements of a List\n",
    "\n",
    "#Multi-Dimentional List\n",
    "Y= [[1,2],'Batman',[3.2,4.2]] #Multi-dimensional list is a list containing another list.\n",
    "print(Y[0][1],Y[2][1])\n"
   ]
  },
  {
   "cell_type": "code",
   "execution_count": 148,
   "metadata": {},
   "outputs": [
    {
     "name": "stdout",
     "output_type": "stream",
     "text": [
      "[1, 3, 5, 7, ['A', 'C']]\n",
      "[7, 1, 3, 5]\n",
      "[1, 3, 5, 7, 9]\n"
     ]
    }
   ],
   "source": [
    "#Adding Elements to a List\n",
    "X= [1,3,5]\n",
    "Y= [1,3,5]\n",
    "Z= [1,3,5]\n",
    "#Append ---A built-in method used to add an item at the end of a list.\n",
    "#Syntax: list.append(value)\n",
    "X.append(7)\n",
    "X.append(['A','C']) # A list as an item can be added\n",
    "print(X)\n",
    "\n",
    "#Insert ---A built-in method used to add an item at the specific postion.\n",
    "#Syntax: list.insert(value)\n",
    "Y.insert(0,7)\n",
    "print(Y)\n",
    "\n",
    "#Extend ---A built-in method used to add all items of one list in another list.\n",
    "#Syntax: list1.extend(list2)\n",
    "A= [7,9]\n",
    "Z.extend(A)\n",
    "print(Z)"
   ]
  },
  {
   "cell_type": "code",
   "execution_count": 149,
   "metadata": {},
   "outputs": [
    {
     "name": "stdout",
     "output_type": "stream",
     "text": [
      "7 <class 'str'>\n",
      "8 <class 'int'>\n"
     ]
    }
   ],
   "source": [
    "#Input()\n",
    "#Note: All input will treated as string in Python\n",
    "X=input('Gotham_ID: ')\n",
    "print(X,type(X))\n",
    "\n",
    "#Typecasting\n",
    "#Covert user input from string to What I need\n",
    "X=int(input('Cat Women Number: '))\n",
    "print(X,type(X))"
   ]
  },
  {
   "cell_type": "code",
   "execution_count": null,
   "metadata": {},
   "outputs": [
    {
     "name": "stdout",
     "output_type": "stream",
     "text": [
      "Cat Women Smash\n",
      "Cat Women Smash\n"
     ]
    }
   ],
   "source": [
    "#Basic for loop\n",
    "for i in range (1, 3): # : means then\n",
    "    print(\"Wonder Women\")"
   ]
  },
  {
   "cell_type": "code",
   "execution_count": 3,
   "metadata": {},
   "outputs": [
    {
     "name": "stdout",
     "output_type": "stream",
     "text": [
      "[0]\n",
      "[1]\n",
      "[2]\n",
      "[3]\n",
      "Batman\n",
      "Super-Girl\n",
      "Flash\n"
     ]
    }
   ],
   "source": [
    "# Basic while loop\n",
    "i = 0\n",
    "while i <= 3: \n",
    "  print([i])\n",
    "  i += 1\n",
    "#Another Example\n",
    "thislist = [\"Batman\", \"Super-Girl\", \"Flash\"]\n",
    "i = 0\n",
    "while i < len(thislist):\n",
    "  print(thislist[i])\n",
    "  i = i + 1\n"
   ]
  },
  {
   "cell_type": "code",
   "execution_count": null,
   "metadata": {},
   "outputs": [
    {
     "name": "stdout",
     "output_type": "stream",
     "text": [
      "Cat Women Kick Power: [62, 4, 4] Torque\n"
     ]
    }
   ],
   "source": [
    "#Input a List using Loops\n",
    "X=int(input('Numbers of Batman Cars: '))\n",
    "Numbers=[] #Initialize an empty list to store the numbers\n",
    "for i in range(X): #Loop 'X' times to get inputs from the user\n",
    "    Y= int(input('Speed of Cars: '))\n",
    "    Numbers.append(Y*2) #Append the input number to the Numbers list []\n",
    "print('Batman Cars Power:', Numbers,'Torque')\n",
    "\n",
    "\n"
   ]
  },
  {
   "cell_type": "code",
   "execution_count": null,
   "metadata": {},
   "outputs": [],
   "source": [
    "#Split()\n",
    "#Splits a string into a list of substrings.\n",
    "#Syntax: string.split(separator, maxsplit)\n",
    "A = 'Superman Batman'\n",
    "print(A.split())"
   ]
  },
  {
   "cell_type": "code",
   "execution_count": null,
   "metadata": {},
   "outputs": [],
   "source": [
    "#Input a List using split() Method\n",
    "#Accepting a list of numbers is easier with split() method.\n",
    "X=int(input('Cat Women Numbers: '))\n",
    "Numbers=input('Enter the Numbers: ').split() #Initialize an empty list to store the numbers\n",
    "for s in range(0,X): #Loop 'X' times to get inputs from the user\n",
    "      Numbers[s]=int(Numbers[s]) ## Convert each element to an integer\n",
    "print(Numbers)"
   ]
  },
  {
   "cell_type": "code",
   "execution_count": null,
   "metadata": {},
   "outputs": [],
   "source": [
    "#Changing List Items\n",
    "Smasher = [\"Batman\", \"Superman\", \"Wonder-Women\", \"Aquaman\"]\n",
    "Smasher[2:3]=[\"Flash\",\"Joker\"] # Changing\n",
    "print(Smasher)\n",
    "#Inserting new item in List\n",
    "#Syntax: list.insert(index, item)\n",
    "Smasher_2 = [\"Batman\", \"Superman\", \"Wonder-Women\", \"Aquaman\"]\n",
    "Smasher_2.insert(-1,\"Flash\") #To insert \"Flash\" in last position use list.append\n",
    "print(Smasher_2)"
   ]
  },
  {
   "cell_type": "code",
   "execution_count": 10,
   "metadata": {},
   "outputs": [
    {
     "name": "stdout",
     "output_type": "stream",
     "text": [
      "['Batman', 'Superman']\n",
      "[]\n"
     ]
    }
   ],
   "source": [
    "#Removing List Items\n",
    "Smasher = [\"Batman\", \"Superman\", \"Wonder-Women\", \"Aquaman\"]\n",
    "Smasher_2 = [\"Batman\", \"Superman\", \"Wonder-Women\", \"Aquaman\"]\n",
    "Smasher.remove(\"Wonder-Women\")\n",
    "Smasher.pop()\n",
    "print(Smasher)\n",
    "Smasher_2.clear()\n",
    "print(Smasher_2)\n",
    "del Smasher #Delete entire List\n"
   ]
  },
  {
   "cell_type": "code",
   "execution_count": 44,
   "metadata": {},
   "outputs": [
    {
     "data": {
      "text/plain": [
       "'SEA Aquaman'"
      ]
     },
     "execution_count": 44,
     "metadata": {},
     "output_type": "execute_result"
    }
   ],
   "source": [
    "Smasher = [\"Batman\", \"Superman\", \"Wonder-Women\", \"Aquaman\"]\n",
    "'SEA ' + Smasher.pop()"
   ]
  },
  {
   "cell_type": "code",
   "execution_count": 43,
   "metadata": {},
   "outputs": [
    {
     "name": "stdout",
     "output_type": "stream",
     "text": [
      "['Batman', 'Superman', 'Aquaman']\n",
      "['Superman', 'Aquaman']\n"
     ]
    }
   ],
   "source": [
    "#List Comprehension\n",
    "Smashers = [\"Batman\", \"Superman\", \"Wonder-Women\", \"Aquaman\"]\n",
    "Smashers_2 =[]\n",
    "for Smasher in Smashers: #Storing item in Smasher variable \n",
    "    if \"a\" in Smasher:\n",
    "        Smashers_2.append(Smasher)\n",
    "print(Smashers_2)\n",
    "#Another Way\n",
    "#Syntax: list = [expression for item in iterable if condition == True]\n",
    "Smashers_3 =[SmasherUltras for SmasherUltras  in Smashers if \"u\" in SmasherUltras]\n",
    "print(Smashers_3)\n",
    "\n"
   ]
  },
  {
   "cell_type": "code",
   "execution_count": null,
   "metadata": {},
   "outputs": [],
   "source": [
    "#Dictionaries\n",
    "#Collection of data items that are stored in key-value pairs\n",
    "#Rule: Cannot have two items with the same key.\n",
    "#Syntax: dict_name = {key1: value1, key2: value2, ...}\n",
    "Car = {'Brand': 'BMW' ,'Model': 'M3-GTR'}\n",
    "#Chaning Values in key\n",
    "Car['Model'] = 'M4 Compitation'\n",
    "print(Car)\n",
    "#Length of a Dictionary\n",
    "len(Car)\n",
    "#Alter Way\n",
    "Car = dict(Brand= 'BMW' ,Model= 'M3-GTR') #Ez way"
   ]
  },
  {
   "cell_type": "code",
   "execution_count": null,
   "metadata": {},
   "outputs": [],
   "source": [
    "#Accessing Dictionary Items\n",
    "Car = dict(Brand= 'BMW' ,Model= 'M3-GTR')\n",
    "Car['Brand']\n",
    "#Accessing keys\n",
    "#Syntax: dic_name.keys()\n",
    "Car.keys() \n",
    "print(Car.keys())\n",
    "#Accessing values\n",
    "#Syntax: dic_name.values()\n",
    "print(Car.values())\n",
    "#Accessing itemns\n",
    "#Syntax: dic_name.items()\n",
    "print(Car.items())\n",
    "#Adding new items\n",
    "Car['Country']= 'Germany' \n",
    "print(Car)\n",
    "#Removing items\n",
    "#Syntax: dict_name.pop(key)\n",
    "Car.pop('Model')\n",
    "print(Car)\n",
    "#Deleting items\n",
    "#Syntax: del dict_name[key]\n",
    "del Car['Brand']\n",
    "print(Car)\n",
    "#Celar dictionary\n",
    "#Syntax: dict_name.clear\n",
    "Car.clear()\n",
    "print(Car)"
   ]
  },
  {
   "cell_type": "code",
   "execution_count": null,
   "metadata": {},
   "outputs": [],
   "source": [
    "#Copying a Dictionary\n",
    "#Syntax: dict_name_copy = dict_name.copy()\n",
    "Car = dict(Brand= 'BMW' ,Model= 'M3-GTR')\n",
    "Car_New = Car.copy()\n",
    "Car_New['Model'] = 'M4 Compitation'\n",
    "print(Car,Car_New)"
   ]
  },
  {
   "cell_type": "code",
   "execution_count": null,
   "metadata": {},
   "outputs": [],
   "source": [
    "#Tuples\n",
    "#Note: Can't add any item\n",
    "Cars = ('BMW' ,'Audi', 'Pagani')\n",
    "print(Cars[0])\n",
    "print(Cars[0:2]) #Slicing\n",
    "Cars_2 = tuple(('BMW' ,'Audi', 'Pagani'))\n",
    "print(Cars_2)\n"
   ]
  },
  {
   "cell_type": "code",
   "execution_count": null,
   "metadata": {},
   "outputs": [],
   "source": [
    "#Adding item to Tuple\n",
    "Cars = ('BMW' ,'Audi', 'Mercedes')\n",
    "Cars_2 = list(Cars)\n",
    "Cars_2.append(\"Toyota\")\n",
    "Cars = tuple(Cars_2)\n",
    "print(Cars)\n",
    "#Updating a Tuple \n",
    "Cars_3 = list(Cars)\n",
    "Cars_3[0] = 'Pagani'\n",
    "Cars = tuple(Cars_3)\n",
    "print(Cars)\n",
    "#Removing item to Tuple\n",
    "Cars_3.remove('Pagani')\n",
    "Cars = tuple(Cars_3)\n",
    "print(Cars)\n",
    "#Unpacking Tuple\n",
    "Cars0, Cars1, Cars2 = Cars\n",
    "print(Cars1)"
   ]
  },
  {
   "cell_type": "code",
   "execution_count": null,
   "metadata": {},
   "outputs": [],
   "source": [
    "##The if Statement\n",
    "#The else statement can be used with an if statement to execute a block of code when the if condition is not satisfied.\n",
    "Wonder_Women_Age = 45\n",
    "if Wonder_Women_Age <=18: #condition\n",
    "    print('Pedo Here') #statement inside if   \n",
    "else:\n",
    "     print('Batman Here') # statement inside else"
   ]
  },
  {
   "cell_type": "code",
   "execution_count": null,
   "metadata": {},
   "outputs": [],
   "source": [
    "#Short Hand If-else\n",
    "#Rule: Used only in One statment needed to executed\n",
    "Wonder_Women_Age = 5\n",
    "print('Pedo Here') if Wonder_Women_Age <=18 else print('Batman Here')"
   ]
  },
  {
   "cell_type": "code",
   "execution_count": 146,
   "metadata": {},
   "outputs": [
    {
     "name": "stdout",
     "output_type": "stream",
     "text": [
      "Unknown superhero. Go Fuck Yourself.\n"
     ]
    }
   ],
   "source": [
    "#The if-elif-else Statement\n",
    "#The if-else statement is used when decision has to be made among two alternatives.\n",
    "#The if-elif-else statement is used when decision has to be made between more than two alternatives.\n",
    "# Character description using if-elif-else statement\n",
    "character = input(\"Enter the name of the superhero (Batman, Wonder Woman, Superman): \").strip().lower()\n",
    "if character == \"batman\":\n",
    "    print(\"Batman is the Dark Knight of Gotham, known for his intellect and gadgets!\")\n",
    "elif character == \"wonder woman\":\n",
    "    print(\"Wonder Woman Oh Yess Baby\")\n",
    "elif character == \"superman\":\n",
    "    print(\"Superman is the Man of Steel, known for his super strength, flight, and laser vision!\")\n",
    "else:\n",
    "    print(\"Unknown superhero. Go Fuck Yourself.\")\n",
    "\n"
   ]
  },
  {
   "cell_type": "code",
   "execution_count": 1,
   "metadata": {},
   "outputs": [
    {
     "name": "stdout",
     "output_type": "stream",
     "text": [
      "Go Away Kiddo\n",
      "You're in a city of superheroes!\n",
      "You're not an adult yet!\n"
     ]
    }
   ],
   "source": [
    "# Logical AND, OR, NOT with conditionals\n",
    "\n",
    "age = int(input(\"Enter your age: \"))\n",
    "city = input(\"Enter your city (Gotham, Metropolis, Themyscira): \").strip().lower()\n",
    "\n",
    "# Using AND\n",
    "if age >= 18 and city == \"gotham\":\n",
    "    print(\"You can team up with Batman!\")\n",
    "elif age >= 18 and city == \"metropolis\":\n",
    "    print(\"You can join Superman in protecting the city!\")\n",
    "elif age >= 18 and city == \"themyscira\":\n",
    "    print(\"You can train with Wonder Woman!\")\n",
    "else:\n",
    "    print(\"Go Away Kiddo\")\n",
    "\n",
    "# Using OR\n",
    "if city == \"gotham\" or city == \"metropolis\" or city == \"themyscira\":\n",
    "    print(\"You're in a city of superheroes!\")\n",
    "else:\n",
    "    print(\"Your city seems Ordinary Kiddo.\")\n",
    "\n",
    "# Using NOT\n",
    "if not (age >= 18):\n",
    "    print(\"You're not an adult yet!\")\n",
    "else:\n",
    "    print(\"You're an adult and ready for smash!\")\n"
   ]
  },
  {
   "cell_type": "code",
   "execution_count": 6,
   "metadata": {},
   "outputs": [
    {
     "name": "stdout",
     "output_type": "stream",
     "text": [
      "The factorial of 4 is 24\n"
     ]
    }
   ],
   "source": [
    "#Function Factional Example \n",
    "number = int(input(\"Enter a number to find its factorial: \"))\n",
    "factorial = 1\n",
    "\n",
    "if number == 0:\n",
    "    print(\"The Factorial of 0 is 1\")\n",
    "else:\n",
    "    for i in range(1, number + 1):\n",
    "        factorial = factorial * i\n",
    "    print(\"The factorial of\", number, \"is\", factorial)"
   ]
  }
 ],
 "metadata": {
  "kernelspec": {
   "display_name": "Python 3",
   "language": "python",
   "name": "python3"
  },
  "language_info": {
   "codemirror_mode": {
    "name": "ipython",
    "version": 3
   },
   "file_extension": ".py",
   "mimetype": "text/x-python",
   "name": "python",
   "nbconvert_exporter": "python",
   "pygments_lexer": "ipython3",
   "version": "3.12.10"
  }
 },
 "nbformat": 4,
 "nbformat_minor": 2
}
